{
 "cells": [
  {
   "cell_type": "markdown",
   "id": "32dedbf8-204d-4fd9-ae7f-ac8ec6a8cb05",
   "metadata": {},
   "source": [
    "## Reference stress is the stress at room temperature - strain rate 0.0001 - strain 0.002"
   ]
  },
  {
   "cell_type": "code",
   "execution_count": 1,
   "id": "2310c724-6e1d-42c5-8191-d41cd8e09800",
   "metadata": {
    "tags": []
   },
   "outputs": [],
   "source": [
    "import pandas as pd"
   ]
  },
  {
   "cell_type": "code",
   "execution_count": 13,
   "id": "0337505d-5610-406e-b86b-5e45d9dbbffa",
   "metadata": {
    "tags": []
   },
   "outputs": [],
   "source": [
    "file_path = 'Fitted_FC_TmpDpn_RD.xlsx'\n",
    "sheet_name = 'StrRt0.1' \n",
    "df = pd.read_excel(file_path, sheet_name=sheet_name)\n",
    "output_file_path = f'Fitted_FC_TmpDpn_RD_{sheet_name}_ref.csv'\n",
    "reference_stress = 783.4465901"
   ]
  },
  {
   "cell_type": "code",
   "execution_count": 14,
   "id": "f867dc11-5e33-4bb8-b75d-a570c8145e4d",
   "metadata": {
    "tags": []
   },
   "outputs": [
    {
     "name": "stdout",
     "output_type": "stream",
     "text": [
      "Modified file saved as 'Fitted_FC_TmpDpn_RD_StrRt0.1_ref.csv'\n"
     ]
    }
   ],
   "source": [
    "\n",
    "# Calculate relative temperature values based on a reference temperature column\n",
    "# Column name for the reference temperature\n",
    "reference_column = 'Tmp298.15K'\n",
    "\n",
    "# Check if the reference column exists\n",
    "if reference_column not in df.columns:\n",
    "    raise ValueError(f\"Reference column '{reference_column}' not found in the CSV file.\")\n",
    "\n",
    "# Iterate over columns to create new columns by dividing with the reference column\n",
    "for column in df.columns:\n",
    "    # Skip the reference and non-temperature columns (e.g., \"Strain\")\n",
    "    if column.startswith(\"Tmp\"):\n",
    "        new_column_name = f\"{column}_ref\"\n",
    "        df[new_column_name] = df[column] / reference_stress\n",
    "\n",
    "# Save the modified DataFrame to a new CSV file\n",
    "df.to_csv(output_file_path, index=False)\n",
    "print(f\"Modified file saved as '{output_file_path}'\")"
   ]
  },
  {
   "cell_type": "code",
   "execution_count": null,
   "id": "641d2c25-7002-4de1-84dc-9caee335b4d7",
   "metadata": {},
   "outputs": [],
   "source": []
  }
 ],
 "metadata": {
  "kernelspec": {
   "display_name": "Python 3",
   "language": "python",
   "name": "python3"
  },
  "language_info": {
   "codemirror_mode": {
    "name": "ipython",
    "version": 3
   },
   "file_extension": ".py",
   "mimetype": "text/x-python",
   "name": "python",
   "nbconvert_exporter": "python",
   "pygments_lexer": "ipython3",
   "version": "3.10.12"
  }
 },
 "nbformat": 4,
 "nbformat_minor": 5
}
