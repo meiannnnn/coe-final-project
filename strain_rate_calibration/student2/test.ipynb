{
 "cells": [
  {
   "cell_type": "code",
   "execution_count": 9,
   "metadata": {},
   "outputs": [
    {
     "name": "stdout",
     "output_type": "stream",
     "text": [
      "PDF saved to Stress_Comparison_Optimized_Plots.pdf\n"
     ]
    }
   ],
   "source": [
    "import numpy as np\n",
    "import pandas as pd\n",
    "import matplotlib.pyplot as plt\n",
    "from matplotlib.backends.backend_pdf import PdfPages\n",
    "\n",
    "# Define the stress calculation function\n",
    "def strain_rate_dependent_stress(sr, C1, C2, C3, C4):\n",
    "    return C1 * np.log(sr) + C2 * sr**C3 + C4 * (np.log(sr))**2\n",
    "\n",
    "# Load data (replace with your file paths)\n",
    "file_1 = pd.read_csv('Fitted_Parameters_Tmp298.15_RD.csv')\n",
    "file_2 = pd.read_csv('Parameters_Tmp298.15_RD_new.csv')\n",
    "\n",
    "# Strain rate range for predictions\n",
    "strain_rates = np.logspace(-4, 0, 100)  # From 0.0001 to 1 (logarithmic scale)\n",
    "\n",
    "# Calculate stresses for each strain\n",
    "stress_comparison = []\n",
    "for strain in file_1['strain']:\n",
    "    params_1 = file_1[file_1['strain'] == strain].iloc[0]\n",
    "    params_2 = file_2[file_2['PEEQ'] == strain].iloc[0]\n",
    "\n",
    "    stresses_1 = [strain_rate_dependent_stress(sr, params_1['C1'], params_1['C2'], params_2['C3'], params_2['C4']) for sr in strain_rates]\n",
    "    stresses_2 = [strain_rate_dependent_stress(sr, params_2['C1'], params_2['C2'], params_2['C3'], params_2['C4']) for sr in strain_rates]\n",
    "\n",
    "    stress_comparison.append({\n",
    "        'strain': strain,\n",
    "        'strain_rates': strain_rates,\n",
    "        'stresses_file_1': stresses_1,\n",
    "        'stresses_file_2': stresses_2\n",
    "    })\n",
    "\n",
    "# Create a DataFrame for comparison\n",
    "comparison_df = pd.DataFrame(stress_comparison)\n",
    "\n",
    "# Save the plots to a PDF file\n",
    "optimized_pdf_path = 'Stress_Comparison_Optimized_Plots.pdf'\n",
    "pdf_pages = PdfPages(optimized_pdf_path)\n",
    "\n",
    "# Plot stress comparisons and save them to the PDF\n",
    "for _, row in comparison_df.iterrows():\n",
    "    plt.figure()\n",
    "    plt.plot(row['strain_rates'], row['stresses_file_1'], label='File 1', marker='o', linestyle='-')\n",
    "    plt.plot(row['strain_rates'], row['stresses_file_2'], label='File 2', marker='x', linestyle='--')\n",
    "    plt.xscale('log')\n",
    "    plt.xlabel('Strain Rate')\n",
    "    plt.ylabel('Stress')\n",
    "    plt.title(f\"Stress Comparison for Strain = {row['strain']:.5f}\")\n",
    "    plt.legend()\n",
    "    plt.grid(True, which='both', linestyle='--', linewidth=0.5)\n",
    "    pdf_pages.savefig()\n",
    "    plt.close()\n",
    "\n",
    "pdf_pages.close()\n",
    "\n",
    "print(f\"PDF saved to {optimized_pdf_path}\")\n"
   ]
  },
  {
   "cell_type": "code",
   "execution_count": null,
   "metadata": {},
   "outputs": [],
   "source": []
  }
 ],
 "metadata": {
  "kernelspec": {
   "display_name": "Python 3",
   "language": "python",
   "name": "python3"
  },
  "language_info": {
   "codemirror_mode": {
    "name": "ipython",
    "version": 3
   },
   "file_extension": ".py",
   "mimetype": "text/x-python",
   "name": "python",
   "nbconvert_exporter": "python",
   "pygments_lexer": "ipython3",
   "version": "3.11.3 (v3.11.3:f3909b8bc8, Apr  4 2023, 20:12:10) [Clang 13.0.0 (clang-1300.0.29.30)]"
  },
  "orig_nbformat": 4,
  "vscode": {
   "interpreter": {
    "hash": "aee8b7b246df8f9039afb4144a1f6fd8d2ca17a180786b69acc140d282b71a49"
   }
  }
 },
 "nbformat": 4,
 "nbformat_minor": 2
}
