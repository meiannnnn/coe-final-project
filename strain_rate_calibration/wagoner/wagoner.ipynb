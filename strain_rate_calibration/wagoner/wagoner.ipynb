{
 "cells": [
  {
   "attachments": {},
   "cell_type": "markdown",
   "metadata": {},
   "source": [
    "![Alt text](pic.png)"
   ]
  },
  {
   "cell_type": "code",
   "execution_count": 2,
   "metadata": {},
   "outputs": [],
   "source": [
    "import pandas as pd\n",
    "import numpy as np\n",
    "from scipy.optimize import curve_fit\n",
    "import matplotlib.pyplot as plt"
   ]
  },
  {
   "attachments": {},
   "cell_type": "markdown",
   "metadata": {},
   "source": [
    "# Strain-rate dependent function fit"
   ]
  },
  {
   "cell_type": "code",
   "execution_count": 4,
   "metadata": {},
   "outputs": [],
   "source": [
    "def wagoner(strain_rate, m0, m1):\n",
    "    return m0 * (np.sqrt(strain_rate * 0.0001) ** m1) * (np.log(strain_rate / 0.0001))\n",
    "\n",
    "def estimate_m_values(data, temp, strain_rates, strain_rate_columns, plot=True):\n",
    "    \"\"\"\n",
    "    Fits strain rate dependency for each row in a dataset and exports results.\n",
    "    \n",
    "    Parameters:\n",
    "    - temperature_file (str): Path to the CSV file containing the data for a specific temperature.\n",
    "    - strain_rates (list of float): List of strain rate values corresponding to columns in the dataset.\n",
    "    - strain_rate_columns (list of str): List of column names in the data corresponding to strain rates.\n",
    "    \n",
    "    Output:\n",
    "    - CSV file with columns: PEEQ, m0, m1, R_squared for each row in the dataset.\n",
    "    \"\"\"\n",
    "\n",
    "    # Default rows to plot\n",
    "    plot_indices = [0,1,2,3,4]\n",
    "        \n",
    "    # Define a scaling factor for better readability in the plot legend\n",
    "    scale_factor = 1\n",
    "\n",
    "    # List to store the results\n",
    "    results = []\n",
    "\n",
    "    # Loop through all rows in the dataset for strain-rate dependency fitting\n",
    "    for i in range(len(data)):\n",
    "        # Extract stress data for each row\n",
    "        stress_values = data.iloc[i][strain_rate_columns].values\n",
    "        stress_values = np.log(stress_values)\n",
    "        bounds =  [(-5,-5), (1000,1000)]\n",
    "        \n",
    "        initial_guess = [-1, 0.5]\n",
    "        \n",
    "        # Initial guess for m0 and m1\n",
    "        if temp == '298.15': \n",
    "            initial_guess = [5, 1]\n",
    "        elif temp == '373.15': \n",
    "            initial_guess = [1, 0.5]\n",
    "        \n",
    "        # Perform the curve fitting using wagoner function\n",
    "        try:\n",
    "            params, _ = curve_fit(wagoner, strain_rates, stress_values, p0=initial_guess, bounds=bounds, maxfev=100000)\n",
    "        except RuntimeError:\n",
    "            print(f\"Could not fit strain-rate dependency for row {i}\")\n",
    "            continue\n",
    "        \n",
    "        # Calculate residuals and R-squared\n",
    "        stress_fit = wagoner(np.array(strain_rates), *params)\n",
    "        residuals = stress_values - stress_fit\n",
    "        ss_res = np.sum(residuals**2)\n",
    "        ss_tot = np.sum((stress_values - np.mean(stress_values))**2)\n",
    "        r_squared = 1 - (ss_res / ss_tot)\n",
    "        \n",
    "        # Store results for exporting\n",
    "        results.append({\n",
    "            \"PEEQ\": data['strain'].iloc[i],\n",
    "            \"m0\": params[0],\n",
    "            \"m1\": params[1],\n",
    "            \"R_squared\": r_squared\n",
    "        })\n",
    "        \n",
    "        plt_strain_rates = np.linspace(min(strain_rates), max(strain_rates), 1000)\n",
    "        plt_stress_fit = wagoner(plt_strain_rates, *params)\n",
    "        # Plot only for specified rows with scaled m0 and m1 in legend\n",
    "        if i in plot_indices:\n",
    "            plt.plot(strain_rates, stress_values, 'o', label='Data')\n",
    "            plt.plot(plt_strain_rates, plt_stress_fit, '-', label='Fit')\n",
    "            plt.xlabel('Strain Rate')\n",
    "            plt.ylabel('Stress')\n",
    "            plt.title(f\"Fit for Row {i} {temp}K (R² = {r_squared:.3f})\")\n",
    "            plt.legend([f'Row {i}', f'Fit: m0={params[0]:.2f}, m1={params[1]:.2f}'], loc=\"lower right\")\n",
    "            plt.grid()\n",
    "            plt.show()\n",
    "\n",
    "    # Export results to CSV\n",
    "    df = pd.DataFrame(results)\n",
    "    df.to_csv(f\"w_m_values_{temp}.csv\", index=False)\n",
    "\n",
    "    if plot:\n",
    "        strain = data['strain']\n",
    "        for strain_rate, col in zip(strain_rates, strain_rate_columns):\n",
    "            fitted_stress = [wagoner(strain_rate, m0, m1) for m0, m1 in zip(df['m0'], df['m1'])]\n",
    "            real_stress = np.log(data[col].values)\n",
    "\n",
    "            residuals = real_stress - fitted_stress\n",
    "            ss_res = np.sum(residuals**2)\n",
    "            ss_tot = np.sum((real_stress - np.mean(real_stress))**2)\n",
    "            r_squared = 1 - (ss_res / ss_tot)\n",
    "            \n",
    "            plt.plot(strain, fitted_stress, label=f'Predicted StrRt{strain_rate}')\n",
    "            plt.scatter(strain, real_stress, color='red', label=f'Real StrRt{strain_rate}')\n",
    "            plt.xlabel('Strain')\n",
    "            plt.ylabel('Normalized Stress')\n",
    "            plt.title(f'Real vs Predicted Stress for StrRt{strain_rate} {temp}K  (R² = {r_squared:.3f})')\n",
    "            plt.legend()\n",
    "            plt.show()\n"
   ]
  },
  {
   "cell_type": "code",
   "execution_count": null,
   "metadata": {},
   "outputs": [],
   "source": [
    "temp = '298.15'\n",
    "strain_rates = np.array([0.0001, 0.001, 0.01, 0.1, 1])\n",
    "strain_rate_columns = ['ref_StrRt0.0001', 'ref_StrRt0.001', 'ref_StrRt0.01', 'ref_StrRt0.1', 'ref_StrRt1']\n",
    "data = pd.read_csv(f\"../Tmp{temp}_RD.csv\")\n",
    "estimate_m_values(data, temp, strain_rates, strain_rate_columns)\n",
    "\n",
    "\n",
    "temps = ['373.15', '473.15', '573.15', '673.15']\n",
    "strain_rates = np.array([0.0001, 0.001, 0.01, 0.1])\n",
    "strain_rate_columns = ['ref_StrRt0.0001', 'ref_StrRt0.001', 'ref_StrRt0.01', 'ref_StrRt0.1']\n",
    "\n",
    "for temp in temps:\n",
    "    data = pd.read_csv(f\"../Tmp{temp}_RD.csv\")\n",
    "    estimate_m_values(data, temp, strain_rates, strain_rate_columns)\n"
   ]
  },
  {
   "attachments": {},
   "cell_type": "markdown",
   "metadata": {},
   "source": [
    "# Check quality for m0 and m1 fitting"
   ]
  },
  {
   "cell_type": "code",
   "execution_count": 3,
   "metadata": {},
   "outputs": [
    {
     "name": "stdout",
     "output_type": "stream",
     "text": [
      "\n",
      "Temperature File: Parameters_298.15.csv\n",
      "Number of rows with R_squared > 0.99: 32\n",
      "Percentage of rows with R_squared > 0.99: 37.65%\n",
      "Min = 0.779272840761928. Max = 0.9998876160051268. Average = 0.9559953663792381\n",
      "\n",
      "Temperature File: Parameters_373.15.csv\n",
      "All R_squared values are <= 0.99.\n",
      "Min = -27.33243468493684. Max = 0.0835923887800356. Average = -7.289101399938186\n",
      "\n",
      "Temperature File: Parameters_473.15.csv\n",
      "All R_squared values are <= 0.99.\n",
      "Min = -24.28703139131531. Max = 0.3877775632575778. Average = -2.4933992358764696\n",
      "\n",
      "Temperature File: Parameters_573.15.csv\n",
      "All R_squared values are <= 0.99.\n",
      "Min = -151.69387872871428. Max = -3.5560365389783604. Average = -12.431839241638984\n",
      "\n",
      "Temperature File: Parameters_673.15.csv\n",
      "All R_squared values are <= 0.99.\n",
      "Min = -59.12604476991887. Max = 0.4225931697905081. Average = -41.419814036497904\n"
     ]
    }
   ],
   "source": [
    "temps = ['298.15', '373.15', '473.15', '573.15', '673.15']\n",
    "threshold = 0.99 # adjust as needed\n",
    "\n",
    "for temp_file in temps:\n",
    "    # Load the data from the CSV file\n",
    "    df = pd.read_csv(f\"w_m_values_{temp_file}.csv\")\n",
    "\n",
    "    # Count rows where R_squared is less than the threshold\n",
    "    total_rows = len(df)\n",
    "    count_high_r_squared = df[df['R_squared'] > threshold].shape[0]\n",
    "\n",
    "    # Calculate the percentage of rows with low R_squared\n",
    "    percentage_low_r_squared = (count_high_r_squared / total_rows) * 100 if total_rows > 0 else 0\n",
    "\n",
    "    # Print results\n",
    "    print(f\"\\nTemperature File: Parameters_{temp_file}.csv\")\n",
    "    if count_high_r_squared > 0:\n",
    "        print(f\"Number of rows with R_squared > {threshold}: {count_high_r_squared}\")\n",
    "        print(f\"Percentage of rows with R_squared > {threshold}: {percentage_low_r_squared:.2f}%\")\n",
    "    else:\n",
    "        print(f\"All R_squared values are <= {threshold}.\")\n",
    "\n",
    "    r_min = min(df['R_squared'])\n",
    "    r_max = max(df['R_squared'])\n",
    "    r_a = sum(df['R_squared'])/total_rows\n",
    "    print(f'Min = {r_min}. Max = {r_max}. Average = {r_a}')\n"
   ]
  }
 ],
 "metadata": {
  "kernelspec": {
   "display_name": "Python 3",
   "language": "python",
   "name": "python3"
  },
  "language_info": {
   "codemirror_mode": {
    "name": "ipython",
    "version": 3
   },
   "file_extension": ".py",
   "mimetype": "text/x-python",
   "name": "python",
   "nbconvert_exporter": "python",
   "pygments_lexer": "ipython3",
   "version": "3.11.3"
  },
  "orig_nbformat": 4,
  "vscode": {
   "interpreter": {
    "hash": "aee8b7b246df8f9039afb4144a1f6fd8d2ca17a180786b69acc140d282b71a49"
   }
  }
 },
 "nbformat": 4,
 "nbformat_minor": 2
}
