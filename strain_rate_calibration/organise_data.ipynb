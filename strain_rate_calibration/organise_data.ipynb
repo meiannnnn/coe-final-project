{
 "cells": [
  {
   "cell_type": "code",
   "execution_count": 1,
   "metadata": {},
   "outputs": [],
   "source": [
    "import pandas as pd"
   ]
  },
  {
   "cell_type": "code",
   "execution_count": 2,
   "metadata": {},
   "outputs": [],
   "source": [
    "def organise_data(strain_rates, temps):\n",
    "    ref_strain = '0.0001'\n",
    "    ref_stress = 580.2822\n",
    "    for temp in temps:\n",
    "        # Initialize DataFrame with strain column for the current temperature\n",
    "        df = None  # Initialize df to None to handle it dynamically for each temperature\n",
    "        \n",
    "        for strain_rate in strain_rates:\n",
    "            # Load stress data for the current temperature and strain rate\n",
    "            data_RD = pd.read_csv(f'../extended_curve/Tmp{temp}K_StrRt{strain_rate}_RD.csv')\n",
    "            \n",
    "            if df is None:\n",
    "                # Initialize DataFrame with strain column if not already done\n",
    "                df = pd.DataFrame({'strain': data_RD['Strain']})\n",
    "            \n",
    "            # Add stress data for the current strain rate as a new column\n",
    "            df[f'StrRt{strain_rate}'] = data_RD['Stress']\n",
    "\n",
    "        for strain_rate in strain_rates:\n",
    "            # Add stress data for the current strain rate as a new column\n",
    "            df[f'ref_StrRt{strain_rate}'] = df[f'StrRt{strain_rate}']/ref_stress\n",
    "\n",
    "        # Filter the DataFrame for strain values below 0.08\n",
    "        df = df[df['strain'] < 0.08]\n",
    "        \n",
    "        # Save the DataFrame to a CSV file for the current temperature\n",
    "        output_file_path = f\"Tmp{temp}_RD_fixed.csv\"\n",
    "        df.to_csv(output_file_path, index=False)"
   ]
  },
  {
   "cell_type": "code",
   "execution_count": 3,
   "metadata": {},
   "outputs": [],
   "source": [
    "def organise_data(strain_rates, temps):\n",
    "    ref_strain = '0.0001'\n",
    "    for temp in temps:\n",
    "        # Initialize DataFrame with strain column for the current temperature\n",
    "        df = None  # Initialize df to None to handle it dynamically for each temperature\n",
    "        \n",
    "        for strain_rate in strain_rates:\n",
    "            # Load stress data for the current temperature and strain rate\n",
    "            data_RD = pd.read_csv(f'../extended_curve/Tmp{temp}K_StrRt{strain_rate}_RD.csv')\n",
    "            \n",
    "            if df is None:\n",
    "                # Initialize DataFrame with strain column if not already done\n",
    "                df = pd.DataFrame({'strain': data_RD['Strain']})\n",
    "            \n",
    "            # Add stress data for the current strain rate as a new column\n",
    "            df[f'StrRt{strain_rate}'] = data_RD['Stress']\n",
    "\n",
    "        for strain_rate in strain_rates:\n",
    "            # Add stress data for the current strain rate as a new column\n",
    "            df[f'ref_StrRt{strain_rate}'] = df[f'StrRt{strain_rate}']/df['StrRt0.0001']\n",
    "\n",
    "        # Filter the DataFrame for strain values below 0.08\n",
    "        df = df[df['strain'] < 0.08]\n",
    "        \n",
    "        # Save the DataFrame to a CSV file for the current temperature\n",
    "        output_file_path = f\"Tmp{temp}_RD.csv\"\n",
    "        df.to_csv(output_file_path, index=False)"
   ]
  },
  {
   "cell_type": "code",
   "execution_count": 4,
   "metadata": {},
   "outputs": [],
   "source": [
    "#First set, not necessary\n",
    "strain_rates = [0.0001]\n",
    "temps = ['77.15', '233.15']\n",
    "organise_data(strain_rates, temps)\n",
    "\n",
    "#Second set\n",
    "strain_rates = [0.0001, 0.001, 0.01, 0.1]\n",
    "temps = ['373.15', '473.15', '573.15', '673.15']\n",
    "organise_data(strain_rates, temps)\n",
    "\n",
    "#Third set\n",
    "strain_rates = [0.0001, 0.001, 0.01, 0.1,1]\n",
    "temps = ['298.15']\n",
    "organise_data(strain_rates, temps)"
   ]
  }
 ],
 "metadata": {
  "kernelspec": {
   "display_name": "Python 3",
   "language": "python",
   "name": "python3"
  },
  "language_info": {
   "codemirror_mode": {
    "name": "ipython",
    "version": 3
   },
   "file_extension": ".py",
   "mimetype": "text/x-python",
   "name": "python",
   "nbconvert_exporter": "python",
   "pygments_lexer": "ipython3",
   "version": "3.11.3"
  },
  "orig_nbformat": 4,
  "vscode": {
   "interpreter": {
    "hash": "aee8b7b246df8f9039afb4144a1f6fd8d2ca17a180786b69acc140d282b71a49"
   }
  }
 },
 "nbformat": 4,
 "nbformat_minor": 2
}
