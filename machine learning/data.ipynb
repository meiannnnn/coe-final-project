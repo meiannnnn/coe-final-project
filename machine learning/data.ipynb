{
 "cells": [
  {
   "cell_type": "code",
   "execution_count": 4,
   "id": "0ada4928-58bf-46a3-a74a-129cb72c9142",
   "metadata": {
    "tags": []
   },
   "outputs": [
    {
     "name": "stderr",
     "output_type": "stream",
     "text": [
      "/tmp/ipykernel_291/2359561386.py:49: FutureWarning: The behavior of DataFrame concatenation with empty or all-NA entries is deprecated. In a future version, this will no longer exclude empty or all-NA columns when determining the result dtypes. To retain the old behavior, exclude the relevant entries before the concat operation.\n",
      "  merged_data = pd.concat([merged_data, temp_df], ignore_index=True)\n"
     ]
    },
    {
     "name": "stdout",
     "output_type": "stream",
     "text": [
      "   Strain      Stress  Strain Rate Temperature  Normalized Stress\n",
      "0  0.0000    0.000000       0.0001         298           0.000000\n",
      "1  0.0002  580.282200       0.0001         298           1.000000\n",
      "2  0.0004  644.631000       0.0001         298           1.110892\n",
      "3  0.0006  681.693300       0.0001         298           1.174762\n",
      "4  0.0008  706.112533       0.0001         298           1.216843\n"
     ]
    }
   ],
   "source": [
    "import pandas as pd\n",
    "import re\n",
    "\n",
    "# Function to extract temperature and strain rate from sheet and column names\n",
    "def extract_temp_strain_rate(sheet_name, column_name):\n",
    "    # Extract temperature from the sheet name (e.g., 'Tmp77.15K_RD')\n",
    "    temp_match = re.search(r'Tmp(\\d+\\.\\d+K)', sheet_name)\n",
    "    temp = float(temp_match.group(1)[:-1]) if temp_match else None\n",
    "    \n",
    "    # Extract strain rate from the column name (e.g., 'Tmp77.15K_StrRt0.0001_RD_E')\n",
    "    strain_rate_match = re.search(r'StrRt(\\d+\\.\\d+)', column_name)\n",
    "    strain_rate = float(strain_rate_match.group(1)) if strain_rate_match else None\n",
    "    \n",
    "    return temp, strain_rate\n",
    "\n",
    "# Load the Excel file\n",
    "excel_path = 'Exp_FC_StrRtDpn_TmpDpn (1).xlsx'\n",
    "excel_file = pd.ExcelFile(excel_path)\n",
    "\n",
    "# Prepare a dataframe to hold the merged data\n",
    "merged_data = pd.DataFrame(columns=[\"Strain\", \"Stress\", \"Strain Rate\", \"Temperature\"])\n",
    "\n",
    "# Iterate over each sheet in the Excel file\n",
    "for sheet_name in excel_file.sheet_names:\n",
    "    # Load the sheet\n",
    "    sheet_data = excel_file.parse(sheet_name)\n",
    "    \n",
    "    # Extract strain and stress columns\n",
    "    for column in sheet_data.columns:\n",
    "        if column.endswith(\"_E\"):  # Strain column\n",
    "            strain_col = column\n",
    "            stress_col = column.replace(\"_E\", \"_S\")  # Find the matching stress column\n",
    "            \n",
    "            if stress_col in sheet_data.columns:\n",
    "                # Extract the temperature and strain rate from the sheet and column names\n",
    "                temp, strain_rate = extract_temp_strain_rate(sheet_name, column)\n",
    "                \n",
    "                temp = int(temp)\n",
    "                \n",
    "                # Prepare a temporary dataframe for this data\n",
    "                temp_df = pd.DataFrame({\n",
    "                    \"Strain\": sheet_data[strain_col],\n",
    "                    \"Stress\": sheet_data[stress_col],\n",
    "                    \"Strain Rate\": strain_rate,\n",
    "                    \"Temperature\": temp     # Rounded Temp\n",
    "                })\n",
    "                \n",
    "                # Append to the merged data\n",
    "                merged_data = pd.concat([merged_data, temp_df], ignore_index=True)\n",
    "\n",
    "# Remove rows with any NaN values\n",
    "merged_data = merged_data.dropna()\n",
    "\n",
    "# Round Strain and Stress to 5 decimal places\n",
    "merged_data[\"Strain\"] = merged_data[\"Strain\"].round(5)\n",
    "merged_data[\"Stress\"] = merged_data[\"Stress\"].round(7)\n",
    "\n",
    "# Locate the reference stress (strain = 0.0002, strain rate = 0.0001, temperature = 298.15)\n",
    "reference_condition = merged_data[\n",
    "    (merged_data[\"Strain\"] == 0.0002) & \n",
    "    (merged_data[\"Strain Rate\"] == 0.0001) & \n",
    "    (merged_data[\"Temperature\"] == 298)\n",
    "]\n",
    "\n",
    "if not reference_condition.empty:\n",
    "    reference_stress = reference_condition.iloc[0][\"Stress\"]\n",
    "else:\n",
    "    reference_stress = None\n",
    "\n",
    "# Normalize the stress column if reference stress is found\n",
    "if reference_stress:\n",
    "    merged_data[\"Normalized Stress\"] = merged_data[\"Stress\"] / reference_stress\n",
    "    \n",
    "# Save the merged data to a CSV file\n",
    "output_csv_path = 'experiment_data_lstm.csv'\n",
    "merged_data.to_csv(output_csv_path, index=False)\n",
    "\n",
    "# Display the first few rows of the merged data\n",
    "print(merged_data.head())"
   ]
  },
  {
   "cell_type": "code",
   "execution_count": null,
   "id": "214f5f51-ceb6-4b2c-a65b-666f405d9a1b",
   "metadata": {},
   "outputs": [],
   "source": []
  }
 ],
 "metadata": {
  "kernelspec": {
   "display_name": "Python 3 (ipykernel)",
   "language": "python",
   "name": "python3"
  },
  "language_info": {
   "codemirror_mode": {
    "name": "ipython",
    "version": 3
   },
   "file_extension": ".py",
   "mimetype": "text/x-python",
   "name": "python",
   "nbconvert_exporter": "python",
   "pygments_lexer": "ipython3",
   "version": "3.10.11"
  }
 },
 "nbformat": 4,
 "nbformat_minor": 5
}
